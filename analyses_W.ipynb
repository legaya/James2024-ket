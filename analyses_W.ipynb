{
 "cells": [
  {
   "cell_type": "markdown",
   "id": "db6972eb",
   "metadata": {},
   "source": [
    "W CASE\n",
    "\n",
    "Remark: Difference of notations between this notebook and the article:\n",
    "\n",
    "* \"DG\" stands for \"DownGradient\", scm_oce_dg is thus the 1D model for k-epsilon\n",
    "* \"DGNG\" stands for \"DownGradientNotGradient\", scm_oce_dgng is thus the 1D model for ket\n",
    "\n",
    "PS: For a better readability of the Notebook, please install the \"jupyter_contrib_nbextensions\" and activate the \"Collapsible Headings\" + \"Codefolding\" extensions."
   ]
  },
  {
   "cell_type": "code",
   "execution_count": 1,
   "id": "e1932d5b",
   "metadata": {
    "ExecuteTime": {
     "end_time": "2024-07-26T09:04:24.583066Z",
     "start_time": "2024-07-26T09:04:24.565555Z"
    }
   },
   "outputs": [],
   "source": [
    "#### --------------------------------------------------------------------\n",
    "#### If you want to run the notebook, please specify the following paths \n",
    "#### --------------------------------------------------------------------\n",
    "\n",
    "path_to_Fortran_modules = '/toto1/'     # location of the Fortran modules (1D model)\n",
    "path_to_Fortran_modules = '/bettik/data-ocean/legaya/archives_James2024_ket_2ndSub/'     # location of the Fortran modules (1D model)\n",
    "path_to_LES_data = '/toto2/'            # location of LES results\n",
    "path_to_LES_data = '/bettik/data-ocean/legaya/archives_James2024_ket_2ndSub/'            # location of LES results"
   ]
  },
  {
   "cell_type": "markdown",
   "id": "105568b3",
   "metadata": {
    "heading_collapsed": true
   },
   "source": [
    "# Imports"
   ]
  },
  {
   "cell_type": "code",
   "execution_count": 2,
   "id": "b2376e16",
   "metadata": {
    "ExecuteTime": {
     "end_time": "2024-07-26T09:04:31.618773Z",
     "start_time": "2024-07-26T09:04:24.587934Z"
    },
    "code_folding": [
     0
    ],
    "hidden": true
   },
   "outputs": [],
   "source": [
    "import numpy as np\n",
    "import matplotlib.pyplot as plt\n",
    "import matplotlib\n",
    "import xarray as xr\n",
    "import sys\n",
    "\n",
    "sys.path.append(path_to_Fortran_modules + 'scm_oce_DG/')   \n",
    "sys.path.append(path_to_Fortran_modules + 'scm_oce_DGNG/')\n",
    "from scm_oce_DG import scm_oce_dg                 ### Fortran module for the 1D simulations\n",
    "from scm_oce_DGNG import scm_oce_dgng             ### Fortran module for the 1D simulations"
   ]
  },
  {
   "cell_type": "markdown",
   "id": "43183693",
   "metadata": {
    "heading_collapsed": true
   },
   "source": [
    "# Functions"
   ]
  },
  {
   "cell_type": "code",
   "execution_count": 3,
   "id": "80edf6b0",
   "metadata": {
    "ExecuteTime": {
     "end_time": "2024-07-26T09:04:31.659404Z",
     "start_time": "2024-07-26T09:04:31.624322Z"
    },
    "code_folding": [
     0,
     15,
     49,
     81,
     98
    ],
    "hidden": true
   },
   "outputs": [],
   "source": [
    "def rhoNL (T,S):\n",
    "    \"\"\"Calculation of the density through a non-linear equation of state\n",
    "    T in °C and S in g/kg (PSU)\"\"\"\n",
    "    QR=+999.842594  ; Q01=+6.793952e-2;  Q02=-9.095290e-3;  \n",
    "    Q03=+1.001685e-4; Q04=-1.120083e-6;  Q05=+6.536332e-9;  \n",
    "    Q10=+0.824493   ; Q11=-4.08990e-3 ;  Q12=+7.64380e-5;   \n",
    "    Q13=-8.24670e-7 ; Q14=+5.38750e-9 ;  QS0=-5.72466e-3;   \n",
    "    QS1=+1.02270e-4 ; QS2=-1.65460e-6 ;  Q20=+4.8314e-4;\n",
    "    \n",
    "    sqrtS   = np.sqrt(S)\n",
    "    rho =   QR+T*(Q01+T*(Q02+T*(Q03+T*(Q04+T*Q05)))) \\\n",
    "             +S*(Q10+T*(Q11+T*(Q12+T*(Q13+T*Q14)))    \\\n",
    "             +sqrtS*(QS0+T*(QS1+T*QS2))+S*Q20)\n",
    "    return(rho)\n",
    "\n",
    "def glsMin(tke_min, eps_min, turbulence_scheme, stability_function):\n",
    "    \"\"\"Calculations of the minimal \"psi\" corresponding to the given minimal turbulent kinetic \n",
    "    energy and given minimal dissipation\"\"\"\n",
    "    rp = rm = rn = 0.0        \n",
    "    if   turbulence_scheme == 1:\n",
    "        rp = -1.0 ; rm = 0.5  ; rn = -1.0\n",
    "    elif turbulence_scheme == 2:\n",
    "        rp = 3.0  ; rm = 1.5  ; rn = -1.0\n",
    "    elif turbulence_scheme == 3:\n",
    "        rp = 0.0  ; rm = 1.0  ; rn = -0.67 \n",
    "    \n",
    "    c1=5.; c2=0.8; c3=1.968; c4=1.136\n",
    "    if   stability_function == 1:\n",
    "        c1=3.6; c2=0.8;    c3=1.2;    c4=1.2\n",
    "    elif stability_function == 2:\n",
    "        c1=6.;  c2=0.32;   c3=0.;     c4=0.\n",
    "    elif stability_function == 3:\n",
    "        c1=6.;  c2=0.32;   c3=0.;     c4=0.\n",
    "    elif stability_function == 4:\n",
    "        c1=3.;  c2=0.8;    c3=2.;     c4=1.118\n",
    "    elif stability_function == 5:\n",
    "        c1=5.;  c2=0.6983; c3=1.9664; c4=1.094\n",
    "    elif stability_function == 6:          \n",
    "        c1=5.;  c2=0.7983; c3=1.968;  c4=1.136    \n",
    "\n",
    "    nn  = 0.5*c1\n",
    "    a1  = 0.66666666667-0.5*c2\n",
    "    a2  = 1.-0.5*c3\n",
    "    a3  = 1.-0.5*c4            \n",
    "    cm0 =  pow( (a2*a2 - 3.0*a3*a3 + 3.0*a1*nn)/(3.0*nn*nn), 0.25 )     \n",
    "    cff     = pow(cm0,3) * pow(tke_min,1.5) / eps_min                     \n",
    "    gls_min = pow(cm0,rp) * pow(tke_min,rm) * pow(cff,rn) \n",
    "    return(gls_min)\n",
    "\n",
    "def autoscale(ax=None, axis='x', margin=0.05):\n",
    "    '''Autoscales the x or y axis of a given matplotlib ax object\n",
    "    to fit the margins set by manually limits of the other axis,\n",
    "    with margins in fraction of the width of the plot\n",
    "    \n",
    "    Defaults to current axes object if not specified.\n",
    "    '''\n",
    "    import matplotlib.pyplot as plt\n",
    "    import numpy as np\n",
    "    if ax is None:\n",
    "        ax = plt.gca()\n",
    "    newlow, newhigh = np.inf, -np.inf\n",
    "\n",
    "    for artist in ax.collections + ax.lines:\n",
    "        x,y = get_xy(artist)\n",
    "        if axis == 'y':\n",
    "            setlim = ax.set_ylim\n",
    "            lim = ax.get_xlim()\n",
    "            fixed, dependent = x, y\n",
    "        else:\n",
    "            setlim = ax.set_xlim\n",
    "            lim = ax.get_ylim()\n",
    "            fixed, dependent = y, x\n",
    "\n",
    "        low, high = calculate_new_limit(fixed, dependent, lim)\n",
    "        newlow = low if low < newlow else newlow\n",
    "        newhigh = high if high > newhigh else newhigh\n",
    "\n",
    "    margin = margin*(newhigh - newlow)\n",
    "\n",
    "    setlim(newlow-margin, newhigh+margin)\n",
    "    \n",
    "def calculate_new_limit(fixed, dependent, limit):\n",
    "    '''Calculates the min/max of the dependent axis given \n",
    "    a fixed axis with limits\n",
    "    '''\n",
    "    if len(fixed) > 2:\n",
    "        mask = (fixed>limit[0]) & (fixed < limit[1])\n",
    "        window = dependent[mask]\n",
    "        low, high = window.min(), window.max()\n",
    "    else:\n",
    "        low = dependent[0]\n",
    "        high = dependent[-1]\n",
    "        if low == 0.0 and high == 1.0:\n",
    "            # This is a axhline in the autoscale direction\n",
    "            low = np.inf\n",
    "            high = -np.inf\n",
    "    return low, high\n",
    "\n",
    "def get_xy(artist):\n",
    "    '''Gets the xy coordinates of a given artist\n",
    "    '''\n",
    "    if \"Collection\" in str(artist):\n",
    "        x, y = artist.get_offsets().T\n",
    "    elif \"Line\" in str(artist):\n",
    "        x, y = artist.get_xdata(), artist.get_ydata()\n",
    "    else:\n",
    "        raise ValueError(\"This type of object isn't implemented yet\")\n",
    "    return x, y"
   ]
  },
  {
   "cell_type": "markdown",
   "id": "140f5bdf",
   "metadata": {
    "heading_collapsed": true
   },
   "source": [
    "# Parameters for the 1D simulations"
   ]
  },
  {
   "cell_type": "code",
   "execution_count": 4,
   "id": "eb451590",
   "metadata": {
    "ExecuteTime": {
     "end_time": "2024-07-26T09:04:31.690791Z",
     "start_time": "2024-07-26T09:04:31.663836Z"
    },
    "hidden": true
   },
   "outputs": [],
   "source": [
    "#%%  INITIALISATION\n",
    "\n",
    "#====================\n",
    "# Input parameters\n",
    "#====================\n",
    "\n",
    "# Physical parameters ===========================================================\n",
    "cp            = 3985    # specific heat [J/kg/K] \n",
    "dpdx          = 0.      # barotropic pressure gradient [m/s2]\n",
    "r_D           = 0.      # bottom friction  CD * ||ubot||\n",
    "Zob           = 0.      # bottom rugosity length\n",
    "Neu_bot       = True    # bottom boundary condition \n",
    "lin_eos       = True            # type of the equation of state\n",
    "T0            = 20              # surface temperature of the initial profile [C]\n",
    "S0            = 35              # constant salinity along the profile [psu]\n",
    "rho0          = rhoNL(T0,S0)    # reference density [kg/m3]\n",
    "alpha         = 2e-4            # coeff for NG term + if lin_eos = True, coef of the eos for the temperature [1/C]  \n",
    "beta          = 8e-4            # if lin_eos = True. Coef of the eos for the salinity [1/psu]  \n",
    "nuwm          = 1.0e-4          # minimal value of the turbulent viscosity \n",
    "nuws          = 0.1e-4          # minimal value of the turbulent diffusivity \n",
    "fcor          = 0               # coriolis parameter [1/s]\n",
    "\n",
    "### You need to fix N2 or dTdz0\n",
    "N2            = 'Calculated'          # Brunt Vaisala frequency (diagnostic) [s-2]\n",
    "dTdz0         = 0.05    # initial temperature gradient [C/m] \n",
    "\n",
    "if N2 == 'Calculated':\n",
    "    N2        = dTdz0*alpha*9.81  # Brunt Vaisala frequency (diagnostic) [s-2]\n",
    "elif dTdz0 == 'Calculated':\n",
    "    dTdz0     = N2/9.81/alpha            # initial temperature gradient [C/m] \n",
    "else:\n",
    "    raise ValueError(\"You can't fix N2 and dTdz0 at the same time\")\n",
    "\n",
    "# Spatial and temporal grids ====================================================\n",
    "nz            = 256     # nb of vertical points\n",
    "hmax          = 50.    # total depth of the domain [m] \n",
    "dt            = 360.    # time step [s]\n",
    "dt_out        = 3600.      # output time step [s]\n",
    "output_period = int(dt_out/dt)         # storage every x time steps\n",
    "total_time    = 30*3600+1*3600             # total simulation time [s]\n",
    "nb_steps      = int(total_time/dt)     # nb of time steps\n",
    "ntra          = 2       # nb of tracers : 2 (temperature + salinity)\n",
    "nt            = 2       # nb of time steps stored : 2 (n et n+1)\n",
    "ngls          = 2       # nb of variable for GLS closure : 2 (TKE + GLS)  "
   ]
  },
  {
   "cell_type": "code",
   "execution_count": 5,
   "id": "df47941d",
   "metadata": {
    "ExecuteTime": {
     "end_time": "2024-07-26T09:04:31.783213Z",
     "start_time": "2024-07-26T09:04:31.693937Z"
    },
    "hidden": true
   },
   "outputs": [],
   "source": [
    "#======================================================\n",
    "#           Definition of the vertical grid\n",
    "#======================================================\n",
    "z_r    = np.zeros(nz)\n",
    "z_w    = np.zeros(nz+1)\n",
    "Hz     = np.zeros(nz)   \n",
    "z_w[0] = -hmax\n",
    "ds  = 1./nz\n",
    "for k in range(nz,0,-1):\n",
    "    sc_w     = ds * float(k-nz)\n",
    "    z_w[k  ] = hmax*sc_w\n",
    "    sc_r     = ds*(float(k-nz)-0.5)\n",
    "    z_r[k-1] = hmax*sc_r\n",
    "for k in range(nz):\n",
    "    Hz[k] = z_w[k+1]-z_w[k]"
   ]
  },
  {
   "cell_type": "code",
   "execution_count": 6,
   "id": "0525c1dd",
   "metadata": {
    "ExecuteTime": {
     "end_time": "2024-07-26T09:04:32.165366Z",
     "start_time": "2024-07-26T09:04:31.787050Z"
    },
    "code_folding": [],
    "hidden": true
   },
   "outputs": [],
   "source": [
    "#======================================================\n",
    "#                Initial profiles \n",
    "#======================================================\n",
    "T_initial = np.zeros(nz); S_initial = np.zeros(nz)\n",
    "for k in range(nz):\n",
    "    T_initial[k] = T0 - dTdz0*np.abs(z_r[k])\n",
    "    S_initial[k] = S0"
   ]
  },
  {
   "cell_type": "code",
   "execution_count": 7,
   "id": "11473d93",
   "metadata": {
    "ExecuteTime": {
     "end_time": "2024-07-26T09:04:32.182755Z",
     "start_time": "2024-07-26T09:04:32.170497Z"
    },
    "hidden": true
   },
   "outputs": [],
   "source": [
    "taux            = 0.1                                   # zonal wind stress [N.m-2] \n",
    "taux_m2s2       = taux/rho0                             # zonal wind stress [m2/s2] \n",
    "tauy            = 0.                                    # meridional wind stress [N.m-2] \n",
    "tauy_m2s2       = tauy/rho0                             # meridional wind stress [m2/s2]\n",
    "ustar           = np.sqrt(np.sqrt(taux_m2s2**2 + tauy_m2s2**2))   # friction velocity [m/s]\n",
    "\n",
    "fnonsol     = 0                                         # non solar flux at the surface [W/m2]\n",
    "EmP         = 0                                         # evaporation - precipitation [kg.m-2.s-1] = [mm.s-1]\n",
    "freshflx    = EmP * S0 / rho0                           # fresh water flux (opposite of this flux to be precise) [psu.m/s]\n",
    "fsol        = 0.                                        # solar flux [W/m^2]\n",
    "fsol_Cms    = fsol / (rho0*cp)                          # solar flux [°C.m/s]\n",
    "fnet   = fnonsol + fsol                                 # net heat fux [W/m2]\n",
    "fnet_Cms = fnet / (rho0*cp)                             # net heat fux  [°C.m/s]\n",
    "B0   = 9.81/rho0 * (alpha/cp * fnet - EmP * S0 * beta)  # buoyancy flux [m2/s3]\n"
   ]
  },
  {
   "cell_type": "markdown",
   "id": "71dc2209",
   "metadata": {
    "heading_collapsed": true
   },
   "source": [
    "# Performing the 1D simulations"
   ]
  },
  {
   "cell_type": "code",
   "execution_count": 8,
   "id": "4e0ba0db",
   "metadata": {
    "ExecuteTime": {
     "end_time": "2024-07-26T09:04:32.202009Z",
     "start_time": "2024-07-26T09:04:32.187026Z"
    },
    "code_folding": [],
    "hidden": true
   },
   "outputs": [],
   "source": [
    "#===============================================\n",
    "# Initialisation of output variables\n",
    "#===============================================\n",
    "\n",
    "N_sch        = 4\n",
    "# Number of schemes run\n",
    "# Choose which ones at the end of the cell\n",
    "    \n",
    "n_sch        = -1                               # index of the current model\n",
    "nout         = int((nb_steps-1)/output_period+1)  # nb of points stored\n",
    "t_days       = np.zeros(nout)                   # output moments\n",
    "T            = np.zeros((nz,nout,N_sch))        # T array\n",
    "U            = np.zeros((nz,nout,N_sch))        # U array\n",
    "varT         = np.zeros((nz+1,nout,N_sch))      # varT array\n",
    "Kt           = np.zeros((nz+1,nout,N_sch))      # diffusion coeff for scalar\n",
    "Gamma_ket    = np.zeros((nz+1,nout,N_sch))      # ket non-local term of \n",
    "wT_NL_KPP    = np.zeros((nz+1,nout))            # KPP non-local term\n",
    "TKE          = np.zeros((nz+1,nout,N_sch))      # turbulent kinetic energy\n",
    "Eps          = np.zeros((nz+1,nout,N_sch))      # dissip epsilon with eps(0) and eps(N) put to 0\n",
    "Fh           = np.zeros((nz+1,nout,N_sch))      # stab function for diffusive part of wT \n",
    "Fh_star      = np.zeros((nz+1,nout,N_sch))      # stab function for non-local term of wT\n",
    "Alpha_n      = np.zeros((nz+1,nout,N_sch))      # Relative to the stratification (Coeff in stability functions)\n"
   ]
  },
  {
   "cell_type": "markdown",
   "id": "615b0a96",
   "metadata": {
    "hidden": true
   },
   "source": [
    "### K-epsilon DG"
   ]
  },
  {
   "cell_type": "code",
   "execution_count": 9,
   "id": "46841bf0",
   "metadata": {
    "ExecuteTime": {
     "end_time": "2024-07-26T09:04:32.311224Z",
     "start_time": "2024-07-26T09:04:32.204656Z"
    },
    "code_folding": [
     0
    ],
    "hidden": true
   },
   "outputs": [
    {
     "name": "stdout",
     "output_type": "stream",
     "text": [
      " cm0      =   0.52646469697902432     \n",
      " alpha_n_min      =   -3.1426048370860973     \n",
      " alpha_m_max      =    34.823400408041671     \n",
      " keps_DG\n"
     ]
    }
   ],
   "source": [
    "# ===========    k-epsilon model    =================\n",
    "    \n",
    "ncount             = 0     # storage counter during the simulation\n",
    "turbulence_scheme  = 2     # 0 KPP05, 1 K-omega, 2 K-eps, 3 gen, 4 KPP94, 5 TKE \n",
    "stability_function = 0     # only for GLS, \"0\" = Canuto A\n",
    "Ric                = 0.3   # must be between 0.15 and 0.45\n",
    "n_sch              = n_sch + 1\n",
    "i_Keps_DG          = n_sch\n",
    "EVD                = False   \n",
    "NonLocalKPP        = True  # Not relevant here but needed to be given\n",
    "\n",
    "# ===================================\n",
    "# Initial condition definition\n",
    "# ===================================\n",
    "\n",
    "uoce  = np.zeros((nz,nt), order='F')       # initial u = 0\n",
    "voce  = np.zeros((nz,nt), order='F')       # initial v = 0\n",
    "toce  = np.zeros((nz,nt,ntra), order='F')  \n",
    "\n",
    "for t in range(nt):\n",
    "    toce[:,t,0] = T_initial    # initialisation of the temperature profile\n",
    "    toce[:,t,1] = S_initial    # initialisation of the salinity profile\n",
    "    \n",
    "rho1  = np.zeros(nz)               # initialisation of the size of the density array\n",
    "hbls  = np.array(0.)               # initialisation of the MLD\n",
    "# Remark1: do not need to give the actual MLD since it is re-calculated before being used \n",
    "# Remark2: very important to give a one-element array and not a scalar, otherwise the Fortran routine\n",
    "# cannot change it and hbls keep the same value during all the simulation...\n",
    "    \n",
    "\n",
    "# =========================================================\n",
    "# Definition of a large scale forcing with a restoring time \n",
    "# delta. Ignored if delta = 0.\n",
    "# =========================================================\n",
    "unudge = np.zeros( nz )    # no geostrophic current u\n",
    "vnudge = np.zeros( nz )    # no geostrophic current v\n",
    "tnudge = np.zeros((nz,ntra), order='F')\n",
    "delta  = np.zeros((nz,ntra), order='F')     \n",
    "\n",
    "# bottom boundary condition for T and S\n",
    "dTdz_bot     = np.zeros(ntra)\n",
    "dTdz_bot[0]  = + dTdz0       # = the initial temperature vertical gradient [Celsius/m]\n",
    "dTdz_bot[1]  = 0.            # no flux for the salinity [psu/m]\n",
    "\n",
    "\n",
    "# =========================================================\n",
    "# Initialisation of the parameters of the turbulent closure\n",
    "# =========================================================\n",
    "\n",
    "Akm  = np.zeros(nz+1)  \n",
    "Akt  = np.zeros((nz+1,ntra), order='F')   \n",
    "Akm [:]     = nuwm\n",
    "Akt [:,0]   = nuws\n",
    "Akt [:,1]   = nuws    \n",
    "Akm [0] = Akm [nz] = 0.\n",
    "Akt [0,0] = Akt [nz,0] = Akt [0,0] = Akt [nz,0] = 0.\n",
    "wx_NL_KPP = np.zeros((nz+1,ntra), order='F')   \n",
    "\n",
    "tke_min = 1.e-6\n",
    "eps_min = 1.e-12\n",
    "turb = np.zeros((nz+1,2,ntra), order='F')\n",
    "turb[:,:,0] = tke_min\n",
    "turb[:,:,1] = glsMin(tke_min, eps_min, turbulence_scheme, stability_function)\n",
    "lmix = np.zeros(nz+1)\n",
    "eps  = np.zeros(nz+1)\n",
    "fm = np.zeros(nz+1)\n",
    "fh = np.zeros(nz+1)\n",
    "alpha_n = np.zeros(nz+1)\n",
    "alpha_m = np.zeros(nz+1)\n",
    "\n",
    "#===============================================                   \n",
    "# Temporal loop\n",
    "#===============================================  \n",
    "for kt in range(nb_steps):\n",
    "    time = dt*float(kt)       # time in s\n",
    "\n",
    "    nstp = 1 +  kt    % 2     # moment \"n\", = 1 or 2 (fortran index), python index = nstp-1 \n",
    "    nnew = 1 + (kt+1) % 2     # # moment \"n+1\", = 1 or 2 (fortran index), python index = nnew-1\n",
    "    check_inputs = False\n",
    "\n",
    "    # temporal integration                                          \n",
    "    scm_oce_dg.obl_stp_dg(z_r,z_w,Hz,                                     \\\n",
    "                    unudge,vnudge,tnudge,                                   \\\n",
    "                    uoce,voce,toce,turb,lmix,eps,                           \\\n",
    "                    rho0,rho1,Akm,Akt,wx_NL_KPP,fm,fh,alpha_n,    \\\n",
    "                    alpha_m,r_D,taux_m2s2,tauy_m2s2,fsol_Cms,fnet_Cms,      \\\n",
    "                    freshflx,dTdz_bot,delta,fcor,Ric,hbls,                  \\\n",
    "                    dt,dpdx,turbulence_scheme,stability_function,           \\\n",
    "                    lin_eos,alpha,T0,beta,S0,Zob,Neu_bot,EVD,NonLocalKPP,   \\\n",
    "                    check_inputs,kt,nstp,nnew,nz,ntra,nt,ngls)\n",
    "    \n",
    "    time_nnew   = time + dt\n",
    "    \n",
    "    # if it is a storage moment\n",
    "    if  kt % output_period == 0:\n",
    "        t_days [ncount]      = time_nnew / (24. * 3600.)              # current time in day        \n",
    "        Kt[:,ncount,n_sch]   = Akt[:,0]                # diffusivity storage\n",
    "        T[:,ncount,n_sch]    = toce[:,nnew-1,0]        # temperature storage\n",
    "        U[:,ncount,n_sch]          = uoce[:,nnew-1]    # zonal velocity storage\n",
    "        \n",
    "        TKE[:,ncount,n_sch]  = turb[:,nnew-1,0]  # TKE storage\n",
    "        Eps[:,ncount,n_sch]  = eps               # dissipation storage\n",
    "        ncount = ncount + 1   \n",
    "\n",
    "#===============================================  \n",
    "del uoce, voce, toce, turb, Akm, Akt      \n"
   ]
  },
  {
   "cell_type": "markdown",
   "id": "c8cc2f9e",
   "metadata": {
    "hidden": true
   },
   "source": [
    "### K-epsilon DGNG"
   ]
  },
  {
   "cell_type": "code",
   "execution_count": 10,
   "id": "98e2a6ae",
   "metadata": {
    "ExecuteTime": {
     "end_time": "2024-07-26T09:04:32.373442Z",
     "start_time": "2024-07-26T09:04:32.314487Z"
    },
    "code_folding": [
     0
    ],
    "hidden": true
   },
   "outputs": [
    {
     "name": "stdout",
     "output_type": "stream",
     "text": [
      " cm0              =   0.52646469697902432     \n",
      " alpha_n_min      =   -6.3750000000000009     \n",
      " alpha_m_max      =    34.823400454102945     \n",
      " alpha_bT_max      =    4.6546943681562823E-310\n",
      " keps_DGNG\n"
     ]
    }
   ],
   "source": [
    "# ===========    ket model    =================\n",
    "\n",
    "ncount             = 0     # storage counter during the simulation\n",
    "turbulence_scheme  = 2     # 0 KPP05, 1 K-omega, 2 K-eps, 3 gen, 4 KPP94, 5 TKE \n",
    "stability_function = 0     # only for GLS, \"0\" = Canuto A\n",
    "Ric                = 0.3   # must be between 0.15 and 0.45\n",
    "n_sch              = n_sch + 1\n",
    "i_Keps_DGNG        = n_sch\n",
    "EVD                = False   \n",
    "NonLocalKPP        = True  # Not relevant here but needed to be given\n",
    "printXinfo         = 0.\n",
    "\n",
    "# ===================================\n",
    "# Initial condition definition\n",
    "# ===================================\n",
    "\n",
    "uoce  = np.zeros((nz,nt), order='F')       # initial u = 0\n",
    "voce  = np.zeros((nz,nt), order='F')       # initial v = 0\n",
    "toce  = np.zeros((nz,nt,ntra), order='F') \n",
    "varToce  = np.zeros((nz+1,nt), order='F')  \n",
    "\n",
    "for t in range(nt):\n",
    "    toce[:,t,0] = T_initial    # initialisation of the temperature profile\n",
    "    toce[:,t,1] = S_initial    # initialisation of the salinity profile\n",
    "    \n",
    "rho1  = np.zeros(nz)               # initialisation of the size of the density array\n",
    "hbls  = np.array(0.)               # initialisation of the MLD\n",
    "# Remark1: do not need to give the actual MLD since it is re-calculated before being used \n",
    "# Remark2: very important to give a one-element array and not a scalar, otherwise the Fortran routine\n",
    "# cannot change it and hbls keep the same value during all the simulation...\n",
    "    \n",
    "\n",
    "# =========================================================\n",
    "# Definition of a large scale forcing with a restoring time \n",
    "# delta. Ignored if delta = 0.\n",
    "# =========================================================\n",
    "unudge = np.zeros( nz )    # no geostrophic current u\n",
    "vnudge = np.zeros( nz )    # no geostrophic current v\n",
    "tnudge = np.zeros((nz,ntra), order='F')\n",
    "delta  = np.zeros((nz,ntra), order='F')     \n",
    "\n",
    "# bottom boundary condition for T and S\n",
    "dTdz_bot     = np.zeros(ntra)\n",
    "dTdz_bot[0]  = + dTdz0       # = the initial temperature vertical gradient [Celsius/m]\n",
    "dTdz_bot[1]  = 0.            # no flux for the salinity [psu/m]\n",
    "\n",
    "# =========================================================\n",
    "# Initialisation of the parameters of the turbulent closure\n",
    "# =========================================================\n",
    "\n",
    "Akm  = np.zeros(nz+1)  \n",
    "Akt  = np.zeros((nz+1,ntra), order='F')   \n",
    "Akm [:]     = nuwm\n",
    "Akt [:,0]   = nuws\n",
    "Akt [:,1]   = nuws    \n",
    "Akm [0] = Akm [nz] = 0.\n",
    "Akt [0,0] = Akt [nz,0] = Akt [0,0] = Akt [nz,0] = 0.\n",
    "wx_NL_KPP = np.zeros((nz+1,ntra), order='F')   \n",
    "gamma_ket = np.zeros(nz+1)\n",
    "\n",
    "tke_min = 1.e-6\n",
    "eps_min = 1.e-12\n",
    "turb = np.zeros((nz+1,2,ntra), order='F')\n",
    "turb[:,:,0] = tke_min\n",
    "turb[:,:,1] = glsMin(tke_min, eps_min, turbulence_scheme, stability_function)\n",
    "lmix = np.zeros(nz+1)\n",
    "eps  = np.zeros(nz+1)\n",
    "fm = np.zeros(nz+1)\n",
    "fh = np.zeros(nz+1)\n",
    "fh_star = np.zeros(nz+1)\n",
    "alpha_n = np.zeros(nz+1)\n",
    "alpha_m = np.zeros(nz+1)\n",
    "alpha_v = np.zeros(nz+1)\n",
    "n2 = np.zeros(nz+1)\n",
    "\n",
    "#===============================================                   \n",
    "# Temporal loop\n",
    "#===============================================  \n",
    "for kt in range(nb_steps):\n",
    "    time = dt*float(kt)       # time in s\n",
    "\n",
    "    nstp = 1 +  kt    % 2     # moment \"n\", = 1 or 2 (fortran index), python index = nstp-1 \n",
    "    nnew = 1 + (kt+1) % 2     # # moment \"n+1\", = 1 or 2 (fortran index), python index = nnew-1\n",
    "    check_inputs = False\n",
    "        \n",
    "    # temporal integration                                          \n",
    "    scm_oce_dgng.obl_stp_dgng(z_r,z_w,Hz,                      \\\n",
    "                    unudge,vnudge,tnudge,                                \\\n",
    "                    uoce,voce,toce,varToce,n2,turb,lmix,eps,                \\\n",
    "                    rho0,rho1,Akm,Akt,gamma_ket,wx_NL_KPP,fm,          \\\n",
    "                    fh,fh_star,                            \\\n",
    "                    alpha_n,alpha_m,alpha_v,r_D,                         \\\n",
    "                    taux_m2s2,tauy_m2s2,fsol_Cms,fnet_Cms,freshflx,      \\\n",
    "                    dTdz_bot,delta,fcor,Ric,hbls,                        \\\n",
    "                    dt,dpdx,turbulence_scheme,stability_function,        \\\n",
    "                    lin_eos,alpha,T0,beta,S0,Zob,Neu_bot,EVD,            \\\n",
    "                    NonLocalKPP,check_inputs,kt,nstp,nnew,nz,ntra,nt,ngls)\n",
    "    \n",
    "    # if it is a storage moment\n",
    "    if  kt % output_period == 0:\n",
    "        Kt[:,ncount,n_sch]         = Akt[:,0]          # diffusivity storage\n",
    "        Gamma_ket[:,ncount,n_sch]  = gamma_ket      \n",
    "        T[:,ncount,n_sch]          = toce[:,nnew-1,0]  # temperature storage\n",
    "        U[:,ncount,n_sch]          = uoce[:,nnew-1]    # zonal velocity storage\n",
    "        varT[:,ncount,n_sch]       = varToce[:,nnew-1] # temperature variance storage\n",
    "       \n",
    "        TKE[:,ncount,n_sch]  = turb[:,nnew-1,0]  # TKE storage\n",
    "        Eps[:,ncount,n_sch]  = eps               # dissipation storage\n",
    "        Fh[:,ncount,n_sch] = fh                  # stab function storage (diffusive part of wT)\n",
    "        Fh_star[:,ncount,n_sch] = fh_star        # stab function storage (non-local term of wT)\n",
    "        Alpha_n[:,ncount,n_sch] = alpha_n\n",
    "        \n",
    "        ncount = ncount + 1      \n",
    "        \n",
    "#===============================================  \n",
    "del uoce, voce, toce, turb, Akm, Akt      \n"
   ]
  },
  {
   "cell_type": "markdown",
   "id": "dc1ce487",
   "metadata": {
    "hidden": true
   },
   "source": [
    "### KPP"
   ]
  },
  {
   "cell_type": "code",
   "execution_count": 11,
   "id": "bd2cfdaa",
   "metadata": {
    "ExecuteTime": {
     "end_time": "2024-07-26T09:04:32.397570Z",
     "start_time": "2024-07-26T09:04:32.375505Z"
    },
    "code_folding": [
     0
    ],
    "hidden": true
   },
   "outputs": [],
   "source": [
    "# ===========   KPP model   =================\n",
    "\n",
    "\n",
    "ncount             = 0     # storage counter during the simulation\n",
    "turbulence_scheme  = 4     # 0 KPP05, 1 K-omega, 2 K-eps, 3 gen, 4 KPP94, 5 TKE \n",
    "stability_function = 0     # only for GLS (1,2,3)\n",
    "Ric                = 0.3   # must be between 0.15 and 0.45\n",
    "n_sch              = n_sch + 1 \n",
    "i_KPP              = n_sch\n",
    "NonLocalKPP        = True    # Activation of the non-local term\n",
    "EVD                = False   # Not relevant here but needed to be given\n",
    "printXinfo         = 0.\n",
    "\n",
    "# ===================================\n",
    "# Initial condition definition\n",
    "# ===================================\n",
    "\n",
    "uoce  = np.zeros((nz,nt), order='F')       # initial u = 0\n",
    "voce  = np.zeros((nz,nt), order='F')       # initial v = 0\n",
    "toce  = np.zeros((nz,nt,ntra), order='F') \n",
    "varToce  = np.zeros((nz+1,nt), order='F')  \n",
    "\n",
    "for t in range(nt):\n",
    "    toce[:,t,0] = T_initial    # initialisation of the temperature profile\n",
    "    toce[:,t,1] = S_initial    # initialisation of the salinity profile\n",
    "    \n",
    "rho1  = np.zeros(nz)               # initialisation of the size of the density array\n",
    "hbls  = np.array(0.)               # initialisation of the MLD\n",
    "# Remark1: do not need to give the actual MLD since it is re-calculated before being used \n",
    "# Remark2: very important to give a one-element array and not a scalar, otherwise the Fortran routine\n",
    "# cannot change it and hbls keep the same value during all the simulation...\n",
    "    \n",
    "\n",
    "# =========================================================\n",
    "# Definition of a large scale forcing with a restoring time \n",
    "# delta. Ignored if delta = 0.\n",
    "# =========================================================\n",
    "unudge = np.zeros( nz )    # no geostrophic current u\n",
    "vnudge = np.zeros( nz )    # no geostrophic current v\n",
    "tnudge = np.zeros((nz,ntra), order='F')\n",
    "delta  = np.zeros((nz,ntra), order='F')     \n",
    "\n",
    "# bottom boundary condition for T and S\n",
    "dTdz_bot     = np.zeros(ntra)\n",
    "dTdz_bot[0]  = + dTdz0       # = the initial temperature vertical gradient [Celsius/m]\n",
    "dTdz_bot[1]  = 0.            # no flux for the salinity [psu/m]\n",
    "\n",
    "# =========================================================\n",
    "# Initialisation of the parameters of the turbulent closure\n",
    "# =========================================================\n",
    "\n",
    "Akm  = np.zeros(nz+1)  \n",
    "Akt  = np.zeros((nz+1,ntra), order='F')   \n",
    "Akm [:]     = nuwm\n",
    "Akt [:,0]   = nuws\n",
    "Akt [:,1]   = nuws    \n",
    "Akm [0] = Akm [nz] = 0.\n",
    "Akt [0,0] = Akt [nz,0] = Akt [0,0] = Akt [nz,0] = 0.\n",
    "wx_NL_KPP = np.zeros((nz+1,ntra), order='F')   \n",
    "gamma_ket = np.zeros(nz+1)   \n",
    "\n",
    "tke_min = 1.e-6\n",
    "eps_min = 1.e-12\n",
    "turb = np.zeros((nz+1,2,ntra), order='F')\n",
    "turb[:,:,0] = tke_min\n",
    "turb[:,:,1] = glsMin(tke_min, eps_min, turbulence_scheme, stability_function)\n",
    "lmix = np.zeros(nz+1)\n",
    "eps  = np.zeros(nz+1)\n",
    "fm = np.zeros(nz+1)\n",
    "fh = np.zeros(nz+1)\n",
    "fh_star = np.zeros(nz+1)\n",
    "alpha_n = np.zeros(nz+1)\n",
    "alpha_m = np.zeros(nz+1)\n",
    "alpha_v = np.zeros(nz+1)\n",
    "n2 = np.zeros(nz+1)\n",
    "\n",
    "#===============================================                   \n",
    "# Temporal loop\n",
    "#===============================================  \n",
    "for kt in range(nb_steps):\n",
    "    time = dt*float(kt)       # time in s\n",
    "\n",
    "    nstp = 1 +  kt    % 2     # moment \"n\", = 1 or 2 (fortran index), python index = nstp-1 \n",
    "    nnew = 1 + (kt+1) % 2     # # moment \"n+1\", = 1 or 2 (fortran index), python index = nnew-1\n",
    "    check_inputs = False\n",
    "   \n",
    "    # temporal integration                                          \n",
    "    scm_oce_dgng.obl_stp_dgng(z_r,z_w,Hz,                                \\\n",
    "                    unudge,vnudge,tnudge,                                \\\n",
    "                    uoce,voce,toce,varToce,n2,turb,lmix,eps,             \\\n",
    "                    rho0,rho1,Akm,Akt,gamma_ket,wx_NL_KPP,fm,          \\\n",
    "                    fh,fh_star,                          \\\n",
    "                    alpha_n,alpha_m,alpha_v,r_D,                         \\\n",
    "                    taux_m2s2,tauy_m2s2,fsol_Cms,fnet_Cms,freshflx,      \\\n",
    "                    dTdz_bot,delta,fcor,Ric,hbls,                        \\\n",
    "                    dt,dpdx,turbulence_scheme,stability_function,        \\\n",
    "                    lin_eos,alpha,T0,beta,S0,Zob,Neu_bot,EVD,            \\\n",
    "                    NonLocalKPP,check_inputs,kt,nstp,nnew,nz,ntra,nt,ngls)\n",
    "    \n",
    "    # if it is a storage moment\n",
    "    if  kt % output_period == 0:\n",
    "        Kt[:,ncount,n_sch]         = Akt[:,0]          # diffusivity storage      \n",
    "        T[:,ncount,n_sch]          = toce[:,nnew-1,0]  # temperature storage\n",
    "        U[:,ncount,n_sch]          = uoce[:,nnew-1]    # zonal velocity storage\n",
    "        ncount = ncount + 1      \n",
    "    \n",
    "#===============================================  \n",
    "del uoce, voce, toce, turb, Akm, Akt  \n"
   ]
  },
  {
   "cell_type": "markdown",
   "id": "4c15c3ca",
   "metadata": {
    "hidden": true
   },
   "source": [
    "### KPP without NL"
   ]
  },
  {
   "cell_type": "code",
   "execution_count": 12,
   "id": "bb74326e",
   "metadata": {
    "ExecuteTime": {
     "end_time": "2024-07-26T09:04:32.443330Z",
     "start_time": "2024-07-26T09:04:32.399560Z"
    },
    "code_folding": [
     0
    ],
    "hidden": true
   },
   "outputs": [],
   "source": [
    "# ===========   KPP model without its non-local term  =================\n",
    "\n",
    "\n",
    "ncount             = 0     # storage counter during the simulation\n",
    "turbulence_scheme  = 4     # 0 KPP05, 1 K-omega, 2 K-eps, 3 gen, 4 KPP94, 5 TKE \n",
    "stability_function = 0     # only for GLS (1,2,3)\n",
    "Ric                = 0.3   # must be between 0.15 and 0.45\n",
    "n_sch              = n_sch + 1 \n",
    "i_KPPwoNL          = n_sch\n",
    "NonLocalKPP        = False    # Activation of the non-local term\n",
    "EVD                = False   # Not relevant here but needed to be given\n",
    "printXinfo         = 0.\n",
    "\n",
    "# ===================================\n",
    "# Initial condition definition\n",
    "# ===================================\n",
    "\n",
    "uoce  = np.zeros((nz,nt), order='F')       # initial u = 0\n",
    "voce  = np.zeros((nz,nt), order='F')       # initial v = 0\n",
    "toce  = np.zeros((nz,nt,ntra), order='F') \n",
    "varToce  = np.zeros((nz+1,nt), order='F')  \n",
    "\n",
    "for t in range(nt):\n",
    "    toce[:,t,0] = T_initial    # initialisation of the temperature profile\n",
    "    toce[:,t,1] = S_initial    # initialisation of the salinity profile\n",
    "    \n",
    "rho1  = np.zeros(nz)               # initialisation of the size of the density array\n",
    "hbls  = np.array(0.)               # initialisation of the MLD\n",
    "# Remark1: do not need to give the actual MLD since it is re-calculated before being used \n",
    "# Remark2: very important to give a one-element array and not a scalar, otherwise the Fortran routine\n",
    "# cannot change it and hbls keep the same value during all the simulation...\n",
    "    \n",
    "\n",
    "# =========================================================\n",
    "# Definition of a large scale forcing with a restoring time \n",
    "# delta. Ignored if delta = 0.\n",
    "# =========================================================\n",
    "unudge = np.zeros( nz )    # no geostrophic current u\n",
    "vnudge = np.zeros( nz )    # no geostrophic current v\n",
    "tnudge = np.zeros((nz,ntra), order='F')\n",
    "delta  = np.zeros((nz,ntra), order='F')     \n",
    "\n",
    "# bottom boundary condition for T and S\n",
    "dTdz_bot     = np.zeros(ntra)\n",
    "dTdz_bot[0]  = + dTdz0       # = the initial temperature vertical gradient [Celsius/m]\n",
    "dTdz_bot[1]  = 0.            # no flux for the salinity [psu/m]\n",
    "\n",
    "# =========================================================\n",
    "# Initialisation of the parameters of the turbulent closure\n",
    "# =========================================================\n",
    "\n",
    "Akm  = np.zeros(nz+1)  \n",
    "Akt  = np.zeros((nz+1,ntra), order='F')   \n",
    "Akm [:]     = nuwm\n",
    "Akt [:,0]   = nuws\n",
    "Akt [:,1]   = nuws    \n",
    "Akm [0] = Akm [nz] = 0.\n",
    "Akt [0,0] = Akt [nz,0] = Akt [0,0] = Akt [nz,0] = 0.\n",
    "wx_NL_KPP = np.zeros((nz+1,ntra), order='F')   \n",
    "gamma_ket = np.zeros(nz+1)   \n",
    "\n",
    "tke_min = 1.e-6\n",
    "eps_min = 1.e-12\n",
    "turb = np.zeros((nz+1,2,ntra), order='F')\n",
    "turb[:,:,0] = tke_min\n",
    "turb[:,:,1] = glsMin(tke_min, eps_min, turbulence_scheme, stability_function)\n",
    "lmix = np.zeros(nz+1)\n",
    "eps  = np.zeros(nz+1)\n",
    "fm = np.zeros(nz+1)\n",
    "fh = np.zeros(nz+1)\n",
    "fh_star = np.zeros(nz+1)\n",
    "alpha_n = np.zeros(nz+1)\n",
    "alpha_m = np.zeros(nz+1)\n",
    "alpha_v = np.zeros(nz+1)\n",
    "n2 = np.zeros(nz+1)\n",
    "\n",
    "#===============================================                   \n",
    "# Temporal loop\n",
    "#===============================================  \n",
    "for kt in range(nb_steps):\n",
    "    time = dt*float(kt)       # time in s\n",
    "\n",
    "    nstp = 1 +  kt    % 2     # moment \"n\", = 1 or 2 (fortran index), python index = nstp-1 \n",
    "    nnew = 1 + (kt+1) % 2     # # moment \"n+1\", = 1 or 2 (fortran index), python index = nnew-1\n",
    "    check_inputs = False\n",
    "   \n",
    "    # temporal integration                                          \n",
    "    scm_oce_dgng.obl_stp_dgng(z_r,z_w,Hz,                                \\\n",
    "                    unudge,vnudge,tnudge,                                \\\n",
    "                    uoce,voce,toce,varToce,n2,turb,lmix,eps,             \\\n",
    "                    rho0,rho1,Akm,Akt,gamma_ket,wx_NL_KPP,fm,          \\\n",
    "                    fh,fh_star,                          \\\n",
    "                    alpha_n,alpha_m,alpha_v,r_D,                         \\\n",
    "                    taux_m2s2,tauy_m2s2,fsol_Cms,fnet_Cms,freshflx,      \\\n",
    "                    dTdz_bot,delta,fcor,Ric,hbls,                        \\\n",
    "                    dt,dpdx,turbulence_scheme,stability_function,        \\\n",
    "                    lin_eos,alpha,T0,beta,S0,Zob,Neu_bot,EVD,            \\\n",
    "                    NonLocalKPP,check_inputs,kt,nstp,nnew,nz,ntra,nt,ngls)\n",
    "    \n",
    "    # if it is a storage moment\n",
    "    if  kt % output_period == 0:\n",
    "        Kt[:,ncount,n_sch]         = Akt[:,0]          # diffusivity storage\n",
    "        T[:,ncount,n_sch]          = toce[:,nnew-1,0]  # temperature storage\n",
    "        U[:,ncount,n_sch]          = uoce[:,nnew-1]    # zonal velocity storage\n",
    "        ncount = ncount + 1      \n",
    "    \n",
    "#===============================================  \n",
    "del uoce, voce, toce, turb, Akm, Akt  \n"
   ]
  },
  {
   "cell_type": "markdown",
   "id": "b8f65136",
   "metadata": {
    "heading_collapsed": true
   },
   "source": [
    "# Post-processing and LES opening"
   ]
  },
  {
   "cell_type": "code",
   "execution_count": 13,
   "id": "5b3e4eab",
   "metadata": {
    "ExecuteTime": {
     "end_time": "2024-07-26T09:04:32.454611Z",
     "start_time": "2024-07-26T09:04:32.445087Z"
    },
    "hidden": true
   },
   "outputs": [],
   "source": [
    "dTdz = np.zeros((nz+1,nout,N_sch))\n",
    "for s in range(N_sch):    \n",
    "    for k in range(nz):\n",
    "        dTdz[k,:,s] = (T[k,:,s] - T[k-1,:,s])/(z_r[k] - z_r[k-1])  \n",
    "    dTdz[0,:,s] = dTdz[1,:,s]\n",
    "    dTdz[-1,:,s] = dTdz[-2,:,s]\n",
    "\n",
    "wT_DG = - Kt * dTdz\n",
    "wT_NG = np.zeros((nz+1,nout,N_sch))\n",
    "wT_NG[:,:,i_KPP]       = wT_NL_KPP\n",
    "wT_NG[:,:,i_Keps_DGNG] = Gamma_ket[:,:,i_Keps_DGNG]\n",
    "wT = wT_DG + wT_NG\n",
    "\n",
    "t_seconds = t_days*3600*24\n",
    "t_hours = t_days*24\n",
    "\n",
    "z_r_N_sch = np.repeat(z_r[:, np.newaxis], N_sch, axis=1)   # z_r repeated \"N_sch\" times on a new dimension\n",
    "z_w_N_sch = np.repeat(z_w[:, np.newaxis], N_sch, axis=1)   # z_w repeated \"N_sch\" times on a new dimension\n"
   ]
  },
  {
   "cell_type": "code",
   "execution_count": 14,
   "id": "ab373da5",
   "metadata": {
    "ExecuteTime": {
     "end_time": "2024-07-26T09:04:32.481823Z",
     "start_time": "2024-07-26T09:04:32.456034Z"
    },
    "hidden": true
   },
   "outputs": [],
   "source": [
    "Eps[Eps == 0] = 1e-12   # for avoiding divisions by 0\n",
    "TKE[TKE == 0] = 1e-6    # for avoiding divisions by 0\n",
    "cT = 1.44\n",
    "\n",
    "varT[:,:,i_Keps_DG] = cT * TKE[:,:,i_Keps_DG]/Eps[:,:,i_Keps_DG] * Kt[:,:,i_Keps_DG] * (dTdz[:,:,i_Keps_DG])**2\n",
    "varT[0,:,i_Keps_DG] = varT[1,:,i_Keps_DG]\n",
    "varT[-1,:,i_Keps_DG] = varT[-2,:,i_Keps_DG]\n",
    "varT[-1,:,i_Keps_DGNG] = varT[-2,:,i_Keps_DGNG]"
   ]
  },
  {
   "cell_type": "code",
   "execution_count": 15,
   "id": "d1f7e2d3",
   "metadata": {
    "ExecuteTime": {
     "end_time": "2024-07-26T09:04:32.997419Z",
     "start_time": "2024-07-26T09:04:32.489238Z"
    },
    "hidden": true
   },
   "outputs": [],
   "source": [
    "LES0023 = xr.open_dataset(path_to_LES_data + 'LES_W_results.nc').transpose()\n",
    "# .transpose() => Same order as 1D-model outputs : depth, time\n",
    "t_LES_seconds = LES0023.t\n",
    "t_LES_hours = t_LES_seconds/3600\n",
    "t_LES_days = t_LES_hours/24\n",
    "b_LES = LES0023.b\n",
    "z_r_LES = LES0023.z\n",
    "T_LES = T0 + b_LES/alpha/9.81\n",
    "wb_LES = LES0023.wpbp\n",
    "wT_LES = wb_LES/alpha/9.81\n",
    "varT_LES = LES0023.bpbp /alpha**2/9.81**2\n",
    "U_LES = LES0023.u\n",
    "\n",
    "nz_LES = z_r_LES.size\n",
    "nt_LES = t_LES_seconds.size\n",
    "dTdz_LES = np.zeros((nz_LES+1,nt_LES))\n",
    "z_w_LES = np.zeros((nz_LES+1))\n",
    "dz_LES = z_r_LES[1] - z_r_LES[0]   # constant\n",
    "\n",
    "for k in range(nz_LES):\n",
    "    dTdz_LES[k,:] = (T_LES[k,:] - T_LES[k-1,:])/(z_r_LES[k] - z_r_LES[k-1])\n",
    "    z_w_LES[k] = (z_r_LES[k] + z_r_LES[k-1])/2\n",
    "\n",
    "    \n",
    "z_w_LES[0] = z_w_LES[1] - dz_LES\n",
    "z_w_LES[-1] = z_w_LES[-2] + dz_LES\n",
    "dTdz_LES[0,:] = dTdz_LES[1,:]\n",
    "dTdz_LES[-1,:] = dTdz_LES[-2,:]\n"
   ]
  },
  {
   "cell_type": "code",
   "execution_count": 16,
   "id": "0b76aab4",
   "metadata": {
    "ExecuteTime": {
     "end_time": "2024-07-26T09:04:33.006768Z",
     "start_time": "2024-07-26T09:04:32.999379Z"
    },
    "hidden": true
   },
   "outputs": [],
   "source": [
    "### ----------------- ###\n",
    "### depth of dTdz = 0 ###\n",
    "### ----------------- ###\n",
    "\n",
    "z_dTdz0 = z_w[np.argmin(np.abs(dTdz),axis=0)]\n",
    "\n",
    "### for the LES, for avoiding fluctuations, we take the mean of the 10 lowest minimums of dTdz\n",
    "z_dTdz0_LES = z_w_LES[np.argsort(np.abs(dTdz_LES), axis=0)[:10,:]].mean(axis=0)\n",
    "\n",
    "\n",
    "\n",
    "### ------------------------ ###\n",
    "### MLD = depth of max(dTdz) ###\n",
    "### ------------------------ ###\n",
    "\n",
    "MLD = z_w[np.argmax(dTdz, axis = 0)]\n",
    "MLD_LES = z_w_LES[np.argsort(dTdz_LES, axis=0)[-10:,:]].mean(axis=0)\n",
    "\n"
   ]
  },
  {
   "cell_type": "markdown",
   "id": "421ad263",
   "metadata": {},
   "source": [
    "# Figures Article"
   ]
  },
  {
   "cell_type": "markdown",
   "id": "812691f6",
   "metadata": {},
   "source": [
    "### Figure 2"
   ]
  },
  {
   "cell_type": "code",
   "execution_count": 17,
   "id": "132490a2",
   "metadata": {
    "ExecuteTime": {
     "end_time": "2024-07-26T09:04:33.479051Z",
     "start_time": "2024-07-26T09:04:33.009624Z"
    }
   },
   "outputs": [
    {
     "data": {
      "image/png": "[encoded data removed]",
      "text/plain": [
       "<Figure size 504x504 with 1 Axes>"
      ]
     },
     "metadata": {
      "needs_background": "light"
     },
     "output_type": "display_data"
    }
   ],
   "source": [
    "plt.figure(figsize=(7,7))\n",
    "plt.plot(t_hours[2:], MLD[2:,i_Keps_DG],linewidth=2,color='tab:blue',label=r\"$k-\\varepsilon$\")\n",
    "plt.plot(t_hours[2:], MLD[2:,i_Keps_DGNG],linewidth=2,color='red',label=r\"$k \\varepsilon t$\")\n",
    "plt.plot(t_LES_hours[1:], MLD_LES[1:], label='LES',linewidth=2,color='black')\n",
    "\n",
    "MLD_Price79 = - 1.05 * ustar * np.sqrt(t_seconds[2:]/N2**0.5)\n",
    "plt.plot(t_hours[2:],MLD_Price79,linestyle='--',label='Analytical',linewidth=2,color='black')\n",
    "\n",
    "plt.legend(fontsize = 20,framealpha=0.9)\n",
    "plt.xlabel('Time [hour]', fontsize = 24)\n",
    "plt.ylabel(r\"$h_m$ [m]\", fontsize = 24)\n",
    "plt.gca().yaxis.set_tick_params(labelsize = 22)\n",
    "plt.gca().xaxis.set_tick_params(labelsize = 22)\n",
    "plt.xlim(1.5,30)\n",
    "plt.grid()\n"
   ]
  },
  {
   "cell_type": "markdown",
   "id": "b680080a",
   "metadata": {},
   "source": [
    "### Figure 4"
   ]
  },
  {
   "cell_type": "code",
   "execution_count": 18,
   "id": "244bfc14",
   "metadata": {
    "ExecuteTime": {
     "end_time": "2024-07-26T09:04:33.708778Z",
     "start_time": "2024-07-26T09:04:33.480972Z"
    }
   },
   "outputs": [
    {
     "data": {
      "image/png": "[encoded data removed]",
      "text/plain": [
       "<Figure size 648x648 with 1 Axes>"
      ]
     },
     "metadata": {
      "needs_background": "light"
     },
     "output_type": "display_data"
    }
   ],
   "source": [
    "timeC=30\n",
    "plt.figure(figsize=(9,9))\n",
    "plt.plot(T[:,timeC,i_Keps_DG],z_r,linewidth=3,color='tab:blue',label=r\"$k-\\varepsilon$\")\n",
    "plt.plot(T[:,timeC,i_Keps_DGNG],z_r,linewidth=3,color='red',label=r\"$k \\varepsilon t$\")\n",
    "plt.plot(T_LES[:,int(timeC/2)],z_r_LES,linewidth=4,color='black',label='LES')\n",
    "plt.ylim(-50,0)\n",
    "\n",
    "plt.xlabel(r\"$\\Theta$ [°C]\", fontsize = 26)\n",
    "plt.ylabel(r\"$ z$ [m]\", fontsize = 26)\n",
    "plt.gca().yaxis.set_tick_params(labelsize = 24)\n",
    "plt.gca().xaxis.set_tick_params(labelsize = 24)\n",
    "autoscale()\n",
    "plt.legend(framealpha=0.9,fontsize = 20)\n",
    "plt.grid()\n"
   ]
  },
  {
   "cell_type": "code",
   "execution_count": 19,
   "id": "89c8b9d8",
   "metadata": {
    "ExecuteTime": {
     "end_time": "2024-07-26T09:04:33.885653Z",
     "start_time": "2024-07-26T09:04:33.712338Z"
    }
   },
   "outputs": [
    {
     "data": {
      "text/plain": [
       "(-50.0, 0.0)"
      ]
     },
     "execution_count": 19,
     "metadata": {},
     "output_type": "execute_result"
    },
    {
     "data": {
      "image/png": "[encoded data removed]",
      "text/plain": [
       "<Figure size 648x648 with 1 Axes>"
      ]
     },
     "metadata": {
      "needs_background": "light"
     },
     "output_type": "display_data"
    }
   ],
   "source": [
    "timeC=30\n",
    "plt.figure(figsize=(9,9))\n",
    "\n",
    "profiles         = U[:-1,timeC,:]\n",
    "z_profiles       = z_r_N_sch[:-1,:]\n",
    "\n",
    "plt.plot( profiles[:,i_Keps_DG], z_profiles[:,i_Keps_DG],linewidth=3,color='tab:blue',label=r\"$k-\\varepsilon$\")\n",
    "plt.plot( profiles[:,i_Keps_DGNG], z_profiles[:,i_Keps_DGNG],linewidth=3,color='red',label=r\"$k \\varepsilon t$\")\n",
    "plt.plot( U_LES[:-1,int(timeC/2)], z_r_LES[:-1],linewidth=4,color='black',label='LES')\n",
    "\n",
    "plt.xlabel(r\"$U$ [m/s]\", fontsize = 26)\n",
    "plt.ylabel(r\"$ z$ [m]\", fontsize = 26)\n",
    "plt.gca().yaxis.set_tick_params(labelsize = 24)\n",
    "plt.gca().xaxis.set_tick_params(labelsize = 24)\n",
    "autoscale()\n",
    "plt.legend(framealpha=0.9,fontsize = 20)\n",
    "plt.grid()\n",
    "plt.ylim(-50,0)\n"
   ]
  },
  {
   "cell_type": "markdown",
   "id": "6f0fa432",
   "metadata": {},
   "source": [
    "### Figure C1"
   ]
  },
  {
   "cell_type": "code",
   "execution_count": 20,
   "id": "f0b9ea52",
   "metadata": {
    "ExecuteTime": {
     "end_time": "2024-07-26T09:04:33.898334Z",
     "start_time": "2024-07-26T09:04:33.889600Z"
    }
   },
   "outputs": [],
   "source": [
    "Fh_keps = Fh / (1. + cT*Fh_star*Alpha_n)\n",
    "residual = 2.*wT*dTdz + 2./cT*Eps/TKE*varT\n",
    "\n",
    "wT_DG_diag = - TKE**2/Eps * Fh_keps * dTdz\n",
    "wT_NG_diag = cT/2. * (9.81*alpha) * TKE**2/Eps**2 * Fh_star/(1.+cT*Fh_star*Alpha_n) * residual"
   ]
  },
  {
   "cell_type": "code",
   "execution_count": 21,
   "id": "928904b1",
   "metadata": {
    "ExecuteTime": {
     "end_time": "2024-07-26T09:04:34.168317Z",
     "start_time": "2024-07-26T09:04:33.901890Z"
    }
   },
   "outputs": [
    {
     "data": {
      "text/plain": [
       "<matplotlib.lines.Line2D at 0x7fe8e0596e80>"
      ]
     },
     "execution_count": 21,
     "metadata": {},
     "output_type": "execute_result"
    },
    {
     "data": {
      "image/png": "[encoded data removed]",
      "text/plain": [
       "<Figure size 648x648 with 1 Axes>"
      ]
     },
     "metadata": {
      "needs_background": "light"
     },
     "output_type": "display_data"
    }
   ],
   "source": [
    "timeC=30\n",
    "plt.figure(figsize=(9,9))\n",
    "plt.plot(wT_DG[:-5,timeC,i_Keps_DGNG], z_w[:-5]/-MLD[timeC,i_Keps_DGNG],linestyle=':',linewidth=6,color='green',label=r'$DG_{k \\varepsilon t}$')\n",
    "plt.plot(wT_NG[:-5,timeC,i_Keps_DGNG], z_w[:-5]/-MLD[timeC,i_Keps_DGNG],linestyle='--',linewidth=4,color='green',label=r'$\\Gamma_{k \\varepsilon t}$')\n",
    "\n",
    "plt.plot(wT_DG_diag[:-5,timeC,i_Keps_DGNG], z_w[:-5]/-MLD[timeC,i_Keps_DGNG],linestyle=':',color='blue',linewidth=6,label=r'$\\widehat{DG_{k \\varepsilon t}}$',zorder=2)\n",
    "plt.plot(wT_NG_diag[:-5,timeC,i_Keps_DGNG], z_w[:-5]/-MLD[timeC,i_Keps_DGNG],linestyle='--',color='blue',linewidth=4,label=r'$\\widehat{\\Gamma_{k \\varepsilon t}}$')\n",
    "\n",
    "plt.plot(wT[:-5,timeC,i_Keps_DGNG], z_w[:-5]/-MLD[timeC,i_Keps_DGNG],linewidth=6,color='red',label=r'Total $k \\varepsilon t$',zorder=1)\n",
    "\n",
    "plt.ylim(-1.2,0)\n",
    "plt.gca().yaxis.set_tick_params(labelsize = 24)\n",
    "plt.gca().xaxis.set_tick_params(labelsize = 24)\n",
    "plt.xlabel(r\"$\\overline{w' \\theta'}$ [K.m/s]\", fontsize = 26)\n",
    "plt.ylabel(r\"$ z \\, / \\, h_m$\", fontsize = 26)\n",
    "plt.grid()\n",
    "plt.legend(fontsize=19,framealpha=0.9)\n",
    "plt.axvline(x=0, linestyle='--', color='black',linewidth=3)\n"
   ]
  },
  {
   "cell_type": "code",
   "execution_count": null,
   "id": "3b83ba55",
   "metadata": {},
   "outputs": [],
   "source": []
  },
  {
   "cell_type": "code",
   "execution_count": null,
   "id": "068dca3c",
   "metadata": {},
   "outputs": [],
   "source": []
  },
  {
   "cell_type": "code",
   "execution_count": null,
   "id": "e7c3f7d0",
   "metadata": {},
   "outputs": [],
   "source": []
  },
  {
   "cell_type": "code",
   "execution_count": null,
   "id": "958b3363",
   "metadata": {},
   "outputs": [],
   "source": []
  }
 ],
 "metadata": {
  "kernelspec": {
   "display_name": "Python 3 (ipykernel)",
   "language": "python",
   "name": "python3"
  },
  "language_info": {
   "codemirror_mode": {
    "name": "ipython",
    "version": 3
   },
   "file_extension": ".py",
   "mimetype": "text/x-python",
   "name": "python",
   "nbconvert_exporter": "python",
   "pygments_lexer": "ipython3",
   "version": "3.8.13"
  }
 },
 "nbformat": 4,
 "nbformat_minor": 5
}
